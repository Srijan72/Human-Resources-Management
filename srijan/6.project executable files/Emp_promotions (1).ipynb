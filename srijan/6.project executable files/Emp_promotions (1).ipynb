{
  "cells": [
    {
      "cell_type": "code",
      "execution_count": 144,
      "metadata": {
        "id": "eLMUqhtbohsT"
      },
      "outputs": [],
      "source": [
        "import numpy as np\n",
        "import pandas as pd\n",
        "import seaborn as sns\n",
        "import matplotlib.pyplot as plt\n",
        "from sklearn.model_selection import train_test_split\n",
        "import warnings\n",
        "warnings.filterwarnings('ignore')\n",
        "from sklearn.preprocessing import LabelEncoder\n",
        "from sklearn.tree import DecisionTreeClassifier\n",
        "from sklearn.ensemble import RandomForestClassifier,GradientBoostingClassifier\n",
        "from sklearn.neighbors import KNeighborsClassifier\n",
        "from sklearn.model_selection import cross_val_score\n",
        "import pickle\n",
        "from sklearn.metrics import classification_report,confusion_matrix\n",
        "plt.style.use('fivethirtyeight')\n",
        "pd.set_option('display.max_rows',None)"
      ]
    },
    {
      "cell_type": "code",
      "execution_count": 145,
      "metadata": {
        "colab": {
          "base_uri": "https://localhost:8080/"
        },
        "id": "52V2GKf7Z7Xm",
        "outputId": "0b182909-a00c-4af0-ec59-beafe2a20f53"
      },
      "outputs": [
        {
          "name": "stdout",
          "output_type": "stream",
          "text": [
            "1.5.1\n"
          ]
        }
      ],
      "source": [
        "import sklearn\n",
        "print(sklearn.__version__)"
      ]
    },
    {
      "cell_type": "code",
      "execution_count": 146,
      "metadata": {
        "colab": {
          "base_uri": "https://localhost:8080/",
          "height": 1000
        },
        "id": "COlpnAfappXl",
        "outputId": "b14ee952-3a2b-41a0-e9ab-327f02da6c12"
      },
      "outputs": [],
      "source": [
        "df=pd.read_csv(\"emp_promotion (1).csv\")\n",
        "#print('shape of train data {}'.format(df.shape))\n",
        "#df\n"
      ]
    },
    {
      "cell_type": "code",
      "execution_count": 182,
      "metadata": {
        "colab": {
          "base_uri": "https://localhost:8080/",
          "height": 215
        },
        "id": "iU_wN0V-qqLn",
        "outputId": "62968891-42cd-46b2-8cc9-d29b5ceacbab"
      },
      "outputs": [
        {
          "data": {
            "text/html": [
              "<div>\n",
              "<style scoped>\n",
              "    .dataframe tbody tr th:only-of-type {\n",
              "        vertical-align: middle;\n",
              "    }\n",
              "\n",
              "    .dataframe tbody tr th {\n",
              "        vertical-align: top;\n",
              "    }\n",
              "\n",
              "    .dataframe thead th {\n",
              "        text-align: right;\n",
              "    }\n",
              "</style>\n",
              "<table border=\"1\" class=\"dataframe\">\n",
              "  <thead>\n",
              "    <tr style=\"text-align: right;\">\n",
              "      <th></th>\n",
              "      <th>department</th>\n",
              "      <th>education</th>\n",
              "      <th>no_of_trainings</th>\n",
              "      <th>age</th>\n",
              "      <th>previous_year_rating</th>\n",
              "      <th>length_of_service</th>\n",
              "      <th>KPIs_met &gt;80%</th>\n",
              "      <th>awards_won?</th>\n",
              "      <th>avg_training_score</th>\n",
              "      <th>is_promoted</th>\n",
              "    </tr>\n",
              "  </thead>\n",
              "  <tbody>\n",
              "    <tr>\n",
              "      <th>0</th>\n",
              "      <td>7</td>\n",
              "      <td>3</td>\n",
              "      <td>1</td>\n",
              "      <td>35</td>\n",
              "      <td>5.0</td>\n",
              "      <td>8.0</td>\n",
              "      <td>1</td>\n",
              "      <td>0</td>\n",
              "      <td>49</td>\n",
              "      <td>0</td>\n",
              "    </tr>\n",
              "    <tr>\n",
              "      <th>1</th>\n",
              "      <td>4</td>\n",
              "      <td>2</td>\n",
              "      <td>1</td>\n",
              "      <td>30</td>\n",
              "      <td>5.0</td>\n",
              "      <td>4.0</td>\n",
              "      <td>0</td>\n",
              "      <td>0</td>\n",
              "      <td>60</td>\n",
              "      <td>0</td>\n",
              "    </tr>\n",
              "    <tr>\n",
              "      <th>2</th>\n",
              "      <td>7</td>\n",
              "      <td>2</td>\n",
              "      <td>1</td>\n",
              "      <td>34</td>\n",
              "      <td>3.0</td>\n",
              "      <td>7.0</td>\n",
              "      <td>0</td>\n",
              "      <td>0</td>\n",
              "      <td>50</td>\n",
              "      <td>0</td>\n",
              "    </tr>\n",
              "    <tr>\n",
              "      <th>3</th>\n",
              "      <td>7</td>\n",
              "      <td>2</td>\n",
              "      <td>2</td>\n",
              "      <td>39</td>\n",
              "      <td>1.0</td>\n",
              "      <td>10.0</td>\n",
              "      <td>0</td>\n",
              "      <td>0</td>\n",
              "      <td>50</td>\n",
              "      <td>0</td>\n",
              "    </tr>\n",
              "    <tr>\n",
              "      <th>4</th>\n",
              "      <td>8</td>\n",
              "      <td>2</td>\n",
              "      <td>1</td>\n",
              "      <td>45</td>\n",
              "      <td>3.0</td>\n",
              "      <td>2.0</td>\n",
              "      <td>0</td>\n",
              "      <td>0</td>\n",
              "      <td>73</td>\n",
              "      <td>0</td>\n",
              "    </tr>\n",
              "    <tr>\n",
              "      <th>5</th>\n",
              "      <td>0</td>\n",
              "      <td>2</td>\n",
              "      <td>2</td>\n",
              "      <td>31</td>\n",
              "      <td>3.0</td>\n",
              "      <td>7.0</td>\n",
              "      <td>0</td>\n",
              "      <td>0</td>\n",
              "      <td>85</td>\n",
              "      <td>0</td>\n",
              "    </tr>\n",
              "    <tr>\n",
              "      <th>6</th>\n",
              "      <td>4</td>\n",
              "      <td>2</td>\n",
              "      <td>1</td>\n",
              "      <td>31</td>\n",
              "      <td>3.0</td>\n",
              "      <td>5.0</td>\n",
              "      <td>0</td>\n",
              "      <td>0</td>\n",
              "      <td>59</td>\n",
              "      <td>0</td>\n",
              "    </tr>\n",
              "    <tr>\n",
              "      <th>7</th>\n",
              "      <td>4</td>\n",
              "      <td>3</td>\n",
              "      <td>1</td>\n",
              "      <td>33</td>\n",
              "      <td>3.0</td>\n",
              "      <td>6.0</td>\n",
              "      <td>0</td>\n",
              "      <td>0</td>\n",
              "      <td>63</td>\n",
              "      <td>0</td>\n",
              "    </tr>\n",
              "    <tr>\n",
              "      <th>8</th>\n",
              "      <td>0</td>\n",
              "      <td>2</td>\n",
              "      <td>1</td>\n",
              "      <td>28</td>\n",
              "      <td>4.0</td>\n",
              "      <td>5.0</td>\n",
              "      <td>0</td>\n",
              "      <td>0</td>\n",
              "      <td>83</td>\n",
              "      <td>0</td>\n",
              "    </tr>\n",
              "    <tr>\n",
              "      <th>9</th>\n",
              "      <td>7</td>\n",
              "      <td>3</td>\n",
              "      <td>1</td>\n",
              "      <td>32</td>\n",
              "      <td>5.0</td>\n",
              "      <td>5.0</td>\n",
              "      <td>1</td>\n",
              "      <td>0</td>\n",
              "      <td>54</td>\n",
              "      <td>0</td>\n",
              "    </tr>\n",
              "  </tbody>\n",
              "</table>\n",
              "</div>"
            ],
            "text/plain": [
              "   department  education  no_of_trainings  age  previous_year_rating  \\\n",
              "0           7          3                1   35                   5.0   \n",
              "1           4          2                1   30                   5.0   \n",
              "2           7          2                1   34                   3.0   \n",
              "3           7          2                2   39                   1.0   \n",
              "4           8          2                1   45                   3.0   \n",
              "5           0          2                2   31                   3.0   \n",
              "6           4          2                1   31                   3.0   \n",
              "7           4          3                1   33                   3.0   \n",
              "8           0          2                1   28                   4.0   \n",
              "9           7          3                1   32                   5.0   \n",
              "\n",
              "   length_of_service  KPIs_met >80%  awards_won?  avg_training_score  \\\n",
              "0                8.0              1            0                  49   \n",
              "1                4.0              0            0                  60   \n",
              "2                7.0              0            0                  50   \n",
              "3               10.0              0            0                  50   \n",
              "4                2.0              0            0                  73   \n",
              "5                7.0              0            0                  85   \n",
              "6                5.0              0            0                  59   \n",
              "7                6.0              0            0                  63   \n",
              "8                5.0              0            0                  83   \n",
              "9                5.0              1            0                  54   \n",
              "\n",
              "   is_promoted  \n",
              "0            0  \n",
              "1            0  \n",
              "2            0  \n",
              "3            0  \n",
              "4            0  \n",
              "5            0  \n",
              "6            0  \n",
              "7            0  \n",
              "8            0  \n",
              "9            0  "
            ]
          },
          "execution_count": 182,
          "metadata": {},
          "output_type": "execute_result"
        }
      ],
      "source": [
        "df.head(10)\n",
        "\n",
        "\n"
      ]
    },
    {
      "cell_type": "code",
      "execution_count": 148,
      "metadata": {
        "colab": {
          "base_uri": "https://localhost:8080/",
          "height": 278
        },
        "id": "yeMecqYXwV7c",
        "outputId": "f4eee2ac-334d-455d-bdd1-81158b16c034"
      },
      "outputs": [
        {
          "data": {
            "text/html": [
              "<div>\n",
              "<style scoped>\n",
              "    .dataframe tbody tr th:only-of-type {\n",
              "        vertical-align: middle;\n",
              "    }\n",
              "\n",
              "    .dataframe tbody tr th {\n",
              "        vertical-align: top;\n",
              "    }\n",
              "\n",
              "    .dataframe thead th {\n",
              "        text-align: right;\n",
              "    }\n",
              "</style>\n",
              "<table border=\"1\" class=\"dataframe\">\n",
              "  <thead>\n",
              "    <tr style=\"text-align: right;\">\n",
              "      <th></th>\n",
              "      <th>employee_id</th>\n",
              "      <th>department</th>\n",
              "      <th>region</th>\n",
              "      <th>education</th>\n",
              "      <th>gender</th>\n",
              "      <th>recruitment_channel</th>\n",
              "      <th>no_of_trainings</th>\n",
              "      <th>age</th>\n",
              "      <th>previous_year_rating</th>\n",
              "      <th>length_of_service</th>\n",
              "      <th>KPIs_met &gt;80%</th>\n",
              "      <th>awards_won?</th>\n",
              "      <th>avg_training_score</th>\n",
              "      <th>is_promoted</th>\n",
              "    </tr>\n",
              "  </thead>\n",
              "  <tbody>\n",
              "    <tr>\n",
              "      <th>54803</th>\n",
              "      <td>3030</td>\n",
              "      <td>Technology</td>\n",
              "      <td>region_14</td>\n",
              "      <td>Bachelor's</td>\n",
              "      <td>m</td>\n",
              "      <td>sourcing</td>\n",
              "      <td>1</td>\n",
              "      <td>48</td>\n",
              "      <td>3.0</td>\n",
              "      <td>17</td>\n",
              "      <td>0</td>\n",
              "      <td>0</td>\n",
              "      <td>78</td>\n",
              "      <td>0</td>\n",
              "    </tr>\n",
              "    <tr>\n",
              "      <th>54804</th>\n",
              "      <td>74592</td>\n",
              "      <td>Operations</td>\n",
              "      <td>region_27</td>\n",
              "      <td>Master's &amp; above</td>\n",
              "      <td>f</td>\n",
              "      <td>other</td>\n",
              "      <td>1</td>\n",
              "      <td>37</td>\n",
              "      <td>2.0</td>\n",
              "      <td>6</td>\n",
              "      <td>0</td>\n",
              "      <td>0</td>\n",
              "      <td>56</td>\n",
              "      <td>0</td>\n",
              "    </tr>\n",
              "    <tr>\n",
              "      <th>54805</th>\n",
              "      <td>13918</td>\n",
              "      <td>Analytics</td>\n",
              "      <td>region_1</td>\n",
              "      <td>Bachelor's</td>\n",
              "      <td>m</td>\n",
              "      <td>other</td>\n",
              "      <td>1</td>\n",
              "      <td>27</td>\n",
              "      <td>5.0</td>\n",
              "      <td>3</td>\n",
              "      <td>1</td>\n",
              "      <td>0</td>\n",
              "      <td>79</td>\n",
              "      <td>0</td>\n",
              "    </tr>\n",
              "    <tr>\n",
              "      <th>54806</th>\n",
              "      <td>13614</td>\n",
              "      <td>Sales &amp; Marketing</td>\n",
              "      <td>region_9</td>\n",
              "      <td>NaN</td>\n",
              "      <td>m</td>\n",
              "      <td>sourcing</td>\n",
              "      <td>1</td>\n",
              "      <td>29</td>\n",
              "      <td>1.0</td>\n",
              "      <td>2</td>\n",
              "      <td>0</td>\n",
              "      <td>0</td>\n",
              "      <td>45</td>\n",
              "      <td>0</td>\n",
              "    </tr>\n",
              "    <tr>\n",
              "      <th>54807</th>\n",
              "      <td>51526</td>\n",
              "      <td>HR</td>\n",
              "      <td>region_22</td>\n",
              "      <td>Bachelor's</td>\n",
              "      <td>m</td>\n",
              "      <td>other</td>\n",
              "      <td>1</td>\n",
              "      <td>27</td>\n",
              "      <td>1.0</td>\n",
              "      <td>5</td>\n",
              "      <td>0</td>\n",
              "      <td>0</td>\n",
              "      <td>49</td>\n",
              "      <td>0</td>\n",
              "    </tr>\n",
              "  </tbody>\n",
              "</table>\n",
              "</div>"
            ],
            "text/plain": [
              "       employee_id         department     region         education gender  \\\n",
              "54803         3030         Technology  region_14        Bachelor's      m   \n",
              "54804        74592         Operations  region_27  Master's & above      f   \n",
              "54805        13918          Analytics   region_1        Bachelor's      m   \n",
              "54806        13614  Sales & Marketing   region_9               NaN      m   \n",
              "54807        51526                 HR  region_22        Bachelor's      m   \n",
              "\n",
              "      recruitment_channel  no_of_trainings  age  previous_year_rating  \\\n",
              "54803            sourcing                1   48                   3.0   \n",
              "54804               other                1   37                   2.0   \n",
              "54805               other                1   27                   5.0   \n",
              "54806            sourcing                1   29                   1.0   \n",
              "54807               other                1   27                   1.0   \n",
              "\n",
              "       length_of_service  KPIs_met >80%  awards_won?  avg_training_score  \\\n",
              "54803                 17              0            0                  78   \n",
              "54804                  6              0            0                  56   \n",
              "54805                  3              1            0                  79   \n",
              "54806                  2              0            0                  45   \n",
              "54807                  5              0            0                  49   \n",
              "\n",
              "       is_promoted  \n",
              "54803            0  \n",
              "54804            0  \n",
              "54805            0  \n",
              "54806            0  \n",
              "54807            0  "
            ]
          },
          "execution_count": 148,
          "metadata": {},
          "output_type": "execute_result"
        }
      ],
      "source": [
        "df.tail()\n"
      ]
    },
    {
      "cell_type": "code",
      "execution_count": 149,
      "metadata": {
        "colab": {
          "base_uri": "https://localhost:8080/",
          "height": 496
        },
        "id": "TNb0E4_Qwk48",
        "outputId": "42bd3f32-891d-4fdb-fae3-3ce5d6327c48"
      },
      "outputs": [
        {
          "data": {
            "text/plain": [
              "<Axes: xlabel='is_promoted', ylabel='count'>"
            ]
          },
          "execution_count": 149,
          "metadata": {},
          "output_type": "execute_result"
        },
        {
          "data": {
            "image/png": "[encoded data removed]",
            "text/plain": [
              "<Figure size 640x480 with 1 Axes>"
            ]
          },
          "metadata": {},
          "output_type": "display_data"
        }
      ],
      "source": [
        "\n",
        "sns.countplot(x='is_promoted',data=df)\n",
        "\n"
      ]
    },
    {
      "cell_type": "code",
      "execution_count": 150,
      "metadata": {
        "colab": {
          "base_uri": "https://localhost:8080/",
          "height": 339
        },
        "id": "huHA3rPIwkJ7",
        "outputId": "2c44ae00-f968-480f-bc74-51e8147816ad"
      },
      "outputs": [
        {
          "data": {
            "image/png": "[encoded data removed]",
            "text/plain": [
              "<Figure size 1600x1000 with 3 Axes>"
            ]
          },
          "metadata": {},
          "output_type": "display_data"
        }
      ],
      "source": [
        "plt.figure(figsize=(16,10))\n",
        "plt.subplot(231)\n",
        "plt.axis('off')\n",
        "plt.title('KPIs_met >80%')\n",
        "df['KPIs_met >80%'].value_counts().plot(kind='pie',shadow=True,autopct = '%.2f%%')\n",
        "plt.subplot(232)\n",
        "plt.axis('off')\n",
        "plt.title('awards_won?')\n",
        "df['awards_won?'].value_counts().plot(kind='pie',shadow='True',autopct = '%.2f%%')\n",
        "plt.subplot(233)\n",
        "plt.axis('off')\n",
        "plt.title('previous_year_rating')\n",
        "df['previous_year_rating'].value_counts().plot(kind='pie',shadow='True',autopct = '%.2f%%')\n",
        "plt.show()"
      ]
    },
    {
      "cell_type": "code",
      "execution_count": 151,
      "metadata": {
        "colab": {
          "base_uri": "https://localhost:8080/",
          "height": 449
        },
        "id": "iFb_FE4Q6waf",
        "outputId": "1deb7346-f229-4e9a-8fe1-49f978273eb4"
      },
      "outputs": [
        {
          "data": {
            "text/plain": [
              "<Axes: ylabel='avg_training_score'>"
            ]
          },
          "execution_count": 151,
          "metadata": {},
          "output_type": "execute_result"
        },
        {
          "data": {
            "image/png": "[encoded data removed]",
            "text/plain": [
              "<Figure size 1400x600 with 2 Axes>"
            ]
          },
          "metadata": {},
          "output_type": "display_data"
        }
      ],
      "source": [
        "#length of services columns has outliers\n",
        "plt.figure(figsize=(14,6))\n",
        "plt.subplot(1,2,1)\n",
        "sns.boxplot(df['length_of_service'],color='g')\n",
        "plt.subplot(1,2,2)\n",
        "sns.boxplot(df['avg_training_score'],color='g')\n"
      ]
    },
    {
      "cell_type": "code",
      "execution_count": 152,
      "metadata": {
        "colab": {
          "base_uri": "https://localhost:8080/",
          "height": 345
        },
        "id": "WAD8x_EF-vH-",
        "outputId": "889b0124-72bf-4c2f-d5fd-6673989a757c"
      },
      "outputs": [
        {
          "data": {
            "image/png": "[encoded data removed]",
            "text/plain": [
              "<Figure size 2000x600 with 1 Axes>"
            ]
          },
          "metadata": {},
          "output_type": "display_data"
        }
      ],
      "source": [
        "\n",
        "plt.figure(figsize=(20,6))\n",
        "# Use 'x' and 'y' to specify the data for the bar plot\n",
        "sns.barplot(x='previous_year_rating', y='avg_training_score', hue='is_promoted', data=df)\n",
        "plt.show()"
      ]
    },
    {
      "cell_type": "code",
      "execution_count": 153,
      "metadata": {
        "colab": {
          "base_uri": "https://localhost:8080/",
          "height": 449
        },
        "id": "Grezd7-liUHk",
        "outputId": "05e50de9-7caa-4e1f-abd1-6b954563ebb1"
      },
      "outputs": [
        {
          "data": {
            "text/html": [
              "<div>\n",
              "<style scoped>\n",
              "    .dataframe tbody tr th:only-of-type {\n",
              "        vertical-align: middle;\n",
              "    }\n",
              "\n",
              "    .dataframe tbody tr th {\n",
              "        vertical-align: top;\n",
              "    }\n",
              "\n",
              "    .dataframe thead th {\n",
              "        text-align: right;\n",
              "    }\n",
              "</style>\n",
              "<table border=\"1\" class=\"dataframe\">\n",
              "  <thead>\n",
              "    <tr style=\"text-align: right;\">\n",
              "      <th></th>\n",
              "      <th>employee_id</th>\n",
              "      <th>department</th>\n",
              "      <th>region</th>\n",
              "      <th>education</th>\n",
              "      <th>gender</th>\n",
              "      <th>recruitment_channel</th>\n",
              "      <th>no_of_trainings</th>\n",
              "      <th>age</th>\n",
              "      <th>previous_year_rating</th>\n",
              "      <th>length_of_service</th>\n",
              "      <th>KPIs_met &gt;80%</th>\n",
              "      <th>awards_won?</th>\n",
              "      <th>avg_training_score</th>\n",
              "      <th>is_promoted</th>\n",
              "    </tr>\n",
              "  </thead>\n",
              "  <tbody>\n",
              "    <tr>\n",
              "      <th>count</th>\n",
              "      <td>54808.000000</td>\n",
              "      <td>54808</td>\n",
              "      <td>54808</td>\n",
              "      <td>52399</td>\n",
              "      <td>54808</td>\n",
              "      <td>54808</td>\n",
              "      <td>54808.000000</td>\n",
              "      <td>54808.000000</td>\n",
              "      <td>50684.000000</td>\n",
              "      <td>54808.000000</td>\n",
              "      <td>54808.000000</td>\n",
              "      <td>54808.000000</td>\n",
              "      <td>54808.000000</td>\n",
              "      <td>54808.000000</td>\n",
              "    </tr>\n",
              "    <tr>\n",
              "      <th>unique</th>\n",
              "      <td>NaN</td>\n",
              "      <td>9</td>\n",
              "      <td>34</td>\n",
              "      <td>3</td>\n",
              "      <td>2</td>\n",
              "      <td>3</td>\n",
              "      <td>NaN</td>\n",
              "      <td>NaN</td>\n",
              "      <td>NaN</td>\n",
              "      <td>NaN</td>\n",
              "      <td>NaN</td>\n",
              "      <td>NaN</td>\n",
              "      <td>NaN</td>\n",
              "      <td>NaN</td>\n",
              "    </tr>\n",
              "    <tr>\n",
              "      <th>top</th>\n",
              "      <td>NaN</td>\n",
              "      <td>Sales &amp; Marketing</td>\n",
              "      <td>region_2</td>\n",
              "      <td>Bachelor's</td>\n",
              "      <td>m</td>\n",
              "      <td>other</td>\n",
              "      <td>NaN</td>\n",
              "      <td>NaN</td>\n",
              "      <td>NaN</td>\n",
              "      <td>NaN</td>\n",
              "      <td>NaN</td>\n",
              "      <td>NaN</td>\n",
              "      <td>NaN</td>\n",
              "      <td>NaN</td>\n",
              "    </tr>\n",
              "    <tr>\n",
              "      <th>freq</th>\n",
              "      <td>NaN</td>\n",
              "      <td>16840</td>\n",
              "      <td>12343</td>\n",
              "      <td>36669</td>\n",
              "      <td>38496</td>\n",
              "      <td>30446</td>\n",
              "      <td>NaN</td>\n",
              "      <td>NaN</td>\n",
              "      <td>NaN</td>\n",
              "      <td>NaN</td>\n",
              "      <td>NaN</td>\n",
              "      <td>NaN</td>\n",
              "      <td>NaN</td>\n",
              "      <td>NaN</td>\n",
              "    </tr>\n",
              "    <tr>\n",
              "      <th>mean</th>\n",
              "      <td>39195.830627</td>\n",
              "      <td>NaN</td>\n",
              "      <td>NaN</td>\n",
              "      <td>NaN</td>\n",
              "      <td>NaN</td>\n",
              "      <td>NaN</td>\n",
              "      <td>1.253011</td>\n",
              "      <td>34.803915</td>\n",
              "      <td>3.329256</td>\n",
              "      <td>5.865512</td>\n",
              "      <td>0.351974</td>\n",
              "      <td>0.023172</td>\n",
              "      <td>63.386750</td>\n",
              "      <td>0.085170</td>\n",
              "    </tr>\n",
              "    <tr>\n",
              "      <th>std</th>\n",
              "      <td>22586.581449</td>\n",
              "      <td>NaN</td>\n",
              "      <td>NaN</td>\n",
              "      <td>NaN</td>\n",
              "      <td>NaN</td>\n",
              "      <td>NaN</td>\n",
              "      <td>0.609264</td>\n",
              "      <td>7.660169</td>\n",
              "      <td>1.259993</td>\n",
              "      <td>4.265094</td>\n",
              "      <td>0.477590</td>\n",
              "      <td>0.150450</td>\n",
              "      <td>13.371559</td>\n",
              "      <td>0.279137</td>\n",
              "    </tr>\n",
              "    <tr>\n",
              "      <th>min</th>\n",
              "      <td>1.000000</td>\n",
              "      <td>NaN</td>\n",
              "      <td>NaN</td>\n",
              "      <td>NaN</td>\n",
              "      <td>NaN</td>\n",
              "      <td>NaN</td>\n",
              "      <td>1.000000</td>\n",
              "      <td>20.000000</td>\n",
              "      <td>1.000000</td>\n",
              "      <td>1.000000</td>\n",
              "      <td>0.000000</td>\n",
              "      <td>0.000000</td>\n",
              "      <td>39.000000</td>\n",
              "      <td>0.000000</td>\n",
              "    </tr>\n",
              "    <tr>\n",
              "      <th>25%</th>\n",
              "      <td>19669.750000</td>\n",
              "      <td>NaN</td>\n",
              "      <td>NaN</td>\n",
              "      <td>NaN</td>\n",
              "      <td>NaN</td>\n",
              "      <td>NaN</td>\n",
              "      <td>1.000000</td>\n",
              "      <td>29.000000</td>\n",
              "      <td>3.000000</td>\n",
              "      <td>3.000000</td>\n",
              "      <td>0.000000</td>\n",
              "      <td>0.000000</td>\n",
              "      <td>51.000000</td>\n",
              "      <td>0.000000</td>\n",
              "    </tr>\n",
              "    <tr>\n",
              "      <th>50%</th>\n",
              "      <td>39225.500000</td>\n",
              "      <td>NaN</td>\n",
              "      <td>NaN</td>\n",
              "      <td>NaN</td>\n",
              "      <td>NaN</td>\n",
              "      <td>NaN</td>\n",
              "      <td>1.000000</td>\n",
              "      <td>33.000000</td>\n",
              "      <td>3.000000</td>\n",
              "      <td>5.000000</td>\n",
              "      <td>0.000000</td>\n",
              "      <td>0.000000</td>\n",
              "      <td>60.000000</td>\n",
              "      <td>0.000000</td>\n",
              "    </tr>\n",
              "    <tr>\n",
              "      <th>75%</th>\n",
              "      <td>58730.500000</td>\n",
              "      <td>NaN</td>\n",
              "      <td>NaN</td>\n",
              "      <td>NaN</td>\n",
              "      <td>NaN</td>\n",
              "      <td>NaN</td>\n",
              "      <td>1.000000</td>\n",
              "      <td>39.000000</td>\n",
              "      <td>4.000000</td>\n",
              "      <td>7.000000</td>\n",
              "      <td>1.000000</td>\n",
              "      <td>0.000000</td>\n",
              "      <td>76.000000</td>\n",
              "      <td>0.000000</td>\n",
              "    </tr>\n",
              "    <tr>\n",
              "      <th>max</th>\n",
              "      <td>78298.000000</td>\n",
              "      <td>NaN</td>\n",
              "      <td>NaN</td>\n",
              "      <td>NaN</td>\n",
              "      <td>NaN</td>\n",
              "      <td>NaN</td>\n",
              "      <td>10.000000</td>\n",
              "      <td>60.000000</td>\n",
              "      <td>5.000000</td>\n",
              "      <td>37.000000</td>\n",
              "      <td>1.000000</td>\n",
              "      <td>1.000000</td>\n",
              "      <td>99.000000</td>\n",
              "      <td>1.000000</td>\n",
              "    </tr>\n",
              "  </tbody>\n",
              "</table>\n",
              "</div>"
            ],
            "text/plain": [
              "         employee_id         department    region   education gender  \\\n",
              "count   54808.000000              54808     54808       52399  54808   \n",
              "unique           NaN                  9        34           3      2   \n",
              "top              NaN  Sales & Marketing  region_2  Bachelor's      m   \n",
              "freq             NaN              16840     12343       36669  38496   \n",
              "mean    39195.830627                NaN       NaN         NaN    NaN   \n",
              "std     22586.581449                NaN       NaN         NaN    NaN   \n",
              "min         1.000000                NaN       NaN         NaN    NaN   \n",
              "25%     19669.750000                NaN       NaN         NaN    NaN   \n",
              "50%     39225.500000                NaN       NaN         NaN    NaN   \n",
              "75%     58730.500000                NaN       NaN         NaN    NaN   \n",
              "max     78298.000000                NaN       NaN         NaN    NaN   \n",
              "\n",
              "       recruitment_channel  no_of_trainings           age  \\\n",
              "count                54808     54808.000000  54808.000000   \n",
              "unique                   3              NaN           NaN   \n",
              "top                  other              NaN           NaN   \n",
              "freq                 30446              NaN           NaN   \n",
              "mean                   NaN         1.253011     34.803915   \n",
              "std                    NaN         0.609264      7.660169   \n",
              "min                    NaN         1.000000     20.000000   \n",
              "25%                    NaN         1.000000     29.000000   \n",
              "50%                    NaN         1.000000     33.000000   \n",
              "75%                    NaN         1.000000     39.000000   \n",
              "max                    NaN        10.000000     60.000000   \n",
              "\n",
              "        previous_year_rating  length_of_service  KPIs_met >80%   awards_won?  \\\n",
              "count           50684.000000       54808.000000   54808.000000  54808.000000   \n",
              "unique                   NaN                NaN            NaN           NaN   \n",
              "top                      NaN                NaN            NaN           NaN   \n",
              "freq                     NaN                NaN            NaN           NaN   \n",
              "mean                3.329256           5.865512       0.351974      0.023172   \n",
              "std                 1.259993           4.265094       0.477590      0.150450   \n",
              "min                 1.000000           1.000000       0.000000      0.000000   \n",
              "25%                 3.000000           3.000000       0.000000      0.000000   \n",
              "50%                 3.000000           5.000000       0.000000      0.000000   \n",
              "75%                 4.000000           7.000000       1.000000      0.000000   \n",
              "max                 5.000000          37.000000       1.000000      1.000000   \n",
              "\n",
              "        avg_training_score   is_promoted  \n",
              "count         54808.000000  54808.000000  \n",
              "unique                 NaN           NaN  \n",
              "top                    NaN           NaN  \n",
              "freq                   NaN           NaN  \n",
              "mean             63.386750      0.085170  \n",
              "std              13.371559      0.279137  \n",
              "min              39.000000      0.000000  \n",
              "25%              51.000000      0.000000  \n",
              "50%              60.000000      0.000000  \n",
              "75%              76.000000      0.000000  \n",
              "max              99.000000      1.000000  "
            ]
          },
          "execution_count": 153,
          "metadata": {},
          "output_type": "execute_result"
        }
      ],
      "source": [
        "df.describe(include='all')"
      ]
    },
    {
      "cell_type": "code",
      "execution_count": 154,
      "metadata": {
        "id": "7yfpK_5Wj4OQ"
      },
      "outputs": [],
      "source": [
        "df=df.drop(['employee_id','region','recruitment_channel'],axis=1)"
      ]
    },
    {
      "cell_type": "code",
      "execution_count": 155,
      "metadata": {
        "colab": {
          "base_uri": "https://localhost:8080/"
        },
        "id": "p77EOu_Ykw1u",
        "outputId": "6e6e461e-0f4d-4947-cfef-1dfd62d3e56e"
      },
      "outputs": [
        {
          "data": {
            "text/plain": [
              "department                 0\n",
              "education               2409\n",
              "gender                     0\n",
              "no_of_trainings            0\n",
              "age                        0\n",
              "previous_year_rating    4124\n",
              "length_of_service          0\n",
              "KPIs_met >80%              0\n",
              "awards_won?                0\n",
              "avg_training_score         0\n",
              "is_promoted                0\n",
              "dtype: int64"
            ]
          },
          "execution_count": 155,
          "metadata": {},
          "output_type": "execute_result"
        }
      ],
      "source": [
        "df.isnull().sum()"
      ]
    },
    {
      "cell_type": "code",
      "execution_count": 156,
      "metadata": {
        "colab": {
          "base_uri": "https://localhost:8080/"
        },
        "id": "x02GS7yuk9tD",
        "outputId": "f629e869-e9e3-4bc9-d1c4-88017be79cf0"
      },
      "outputs": [
        {
          "name": "stdout",
          "output_type": "stream",
          "text": [
            "education\n",
            "Bachelor's          36669\n",
            "Master's & above    14925\n",
            "Below Secondary       805\n",
            "Name: count, dtype: int64\n"
          ]
        }
      ],
      "source": [
        "#replacing nan with mode\n",
        "print(df['education'].value_counts())\n",
        "df['education'] = df['education'].fillna(df['education'].mode()[0])"
      ]
    },
    {
      "cell_type": "code",
      "execution_count": 157,
      "metadata": {
        "colab": {
          "base_uri": "https://localhost:8080/"
        },
        "id": "95YAJmaNl5_H",
        "outputId": "3cea662b-5163-48c0-da87-885fbcb90beb"
      },
      "outputs": [
        {
          "name": "stdout",
          "output_type": "stream",
          "text": [
            "previous_year_rating\n",
            "3.0    18618\n",
            "5.0    11741\n",
            "4.0     9877\n",
            "1.0     6223\n",
            "2.0     4225\n",
            "Name: count, dtype: int64\n"
          ]
        }
      ],
      "source": [
        "#replacing nan with mode\n",
        "print(df['previous_year_rating'].value_counts())\n",
        "df['previous_year_rating'] = df['previous_year_rating'].fillna(df['previous_year_rating'].mode()[0])"
      ]
    },
    {
      "cell_type": "code",
      "execution_count": 158,
      "metadata": {
        "colab": {
          "base_uri": "https://localhost:8080/",
          "height": 184
        },
        "id": "Pc6fkUt3npTW",
        "outputId": "937047a2-c30e-4506-c4e9-4d46df3b760f"
      },
      "outputs": [
        {
          "data": {
            "text/html": [
              "<div>\n",
              "<style scoped>\n",
              "    .dataframe tbody tr th:only-of-type {\n",
              "        vertical-align: middle;\n",
              "    }\n",
              "\n",
              "    .dataframe tbody tr th {\n",
              "        vertical-align: top;\n",
              "    }\n",
              "\n",
              "    .dataframe thead th {\n",
              "        text-align: right;\n",
              "    }\n",
              "</style>\n",
              "<table border=\"1\" class=\"dataframe\">\n",
              "  <thead>\n",
              "    <tr style=\"text-align: right;\">\n",
              "      <th></th>\n",
              "      <th>department</th>\n",
              "      <th>education</th>\n",
              "      <th>gender</th>\n",
              "      <th>no_of_trainings</th>\n",
              "      <th>age</th>\n",
              "      <th>previous_year_rating</th>\n",
              "      <th>length_of_service</th>\n",
              "      <th>KPIs_met &gt;80%</th>\n",
              "      <th>awards_won?</th>\n",
              "      <th>avg_training_score</th>\n",
              "      <th>is_promoted</th>\n",
              "    </tr>\n",
              "  </thead>\n",
              "  <tbody>\n",
              "    <tr>\n",
              "      <th>31860</th>\n",
              "      <td>Sales &amp; Marketing</td>\n",
              "      <td>Bachelor's</td>\n",
              "      <td>m</td>\n",
              "      <td>1</td>\n",
              "      <td>27</td>\n",
              "      <td>1.0</td>\n",
              "      <td>2</td>\n",
              "      <td>0</td>\n",
              "      <td>0</td>\n",
              "      <td>58</td>\n",
              "      <td>1</td>\n",
              "    </tr>\n",
              "    <tr>\n",
              "      <th>51374</th>\n",
              "      <td>Sales &amp; Marketing</td>\n",
              "      <td>Bachelor's</td>\n",
              "      <td>m</td>\n",
              "      <td>1</td>\n",
              "      <td>31</td>\n",
              "      <td>1.0</td>\n",
              "      <td>5</td>\n",
              "      <td>0</td>\n",
              "      <td>0</td>\n",
              "      <td>58</td>\n",
              "      <td>1</td>\n",
              "    </tr>\n",
              "  </tbody>\n",
              "</table>\n",
              "</div>"
            ],
            "text/plain": [
              "              department   education gender  no_of_trainings  age  \\\n",
              "31860  Sales & Marketing  Bachelor's      m                1   27   \n",
              "51374  Sales & Marketing  Bachelor's      m                1   31   \n",
              "\n",
              "       previous_year_rating  length_of_service  KPIs_met >80%  awards_won?  \\\n",
              "31860                   1.0                  2              0            0   \n",
              "51374                   1.0                  5              0            0   \n",
              "\n",
              "       avg_training_score  is_promoted  \n",
              "31860                  58            1  \n",
              "51374                  58            1  "
            ]
          },
          "execution_count": 158,
          "metadata": {},
          "output_type": "execute_result"
        }
      ],
      "source": [
        "negative=df[(df['KPIs_met >80%']==0)& (df['awards_won?']==0) & (df['previous_year_rating']==1.0) & (df['is_promoted']==1) & (df['avg_training_score']<60)]\n",
        "negative"
      ]
    },
    {
      "cell_type": "code",
      "execution_count": 159,
      "metadata": {
        "id": "tfHQLMJguwCu"
      },
      "outputs": [],
      "source": [
        "#removing negative data\n",
        "df.drop(index=[31860,51374],inplace=True)"
      ]
    },
    {
      "cell_type": "code",
      "execution_count": 160,
      "metadata": {
        "colab": {
          "base_uri": "https://localhost:8080/"
        },
        "id": "TfUZcOTsvshS",
        "outputId": "7321dddf-6d41-4929-f933-b4f3855df098"
      },
      "outputs": [
        {
          "name": "stdout",
          "output_type": "stream",
          "text": [
            "q1 : 3.0\n",
            "q3 : 7.0\n",
            "IQR : 4.0\n",
            "upper Bound : 13.0\n",
            "Lower Bound : 3.0\n",
            "skewed data : 3489\n"
          ]
        }
      ],
      "source": [
        "#handling outliers\n",
        "q1 = np.quantile(df['length_of_service'],0.25)\n",
        "q3 = np.quantile(df['length_of_service'],0.75)\n",
        "IQR = q3-q1\n",
        "upperBound = (1.5*IQR)+q3\n",
        "lowerbound = (1.5*IQR)-q1\n",
        "print('q1 :',q1)\n",
        "print('q3 :',q3)\n",
        "print('IQR :',IQR)\n",
        "print('upper Bound :',upperBound)\n",
        "print('Lower Bound :',lowerbound)\n",
        "print('skewed data :',len(df[df['length_of_service']>upperBound]))"
      ]
    },
    {
      "cell_type": "code",
      "execution_count": 161,
      "metadata": {
        "colab": {
          "base_uri": "https://localhost:8080/",
          "height": 143
        },
        "id": "mF8Bt95Dxb9L",
        "outputId": "93e62603-ea5a-49e4-baa6-605f08804e92"
      },
      "outputs": [
        {
          "data": {
            "text/html": [
              "<div>\n",
              "<style scoped>\n",
              "    .dataframe tbody tr th:only-of-type {\n",
              "        vertical-align: middle;\n",
              "    }\n",
              "\n",
              "    .dataframe tbody tr th {\n",
              "        vertical-align: top;\n",
              "    }\n",
              "\n",
              "    .dataframe thead th {\n",
              "        text-align: right;\n",
              "    }\n",
              "</style>\n",
              "<table border=\"1\" class=\"dataframe\">\n",
              "  <thead>\n",
              "    <tr style=\"text-align: right;\">\n",
              "      <th>is_promoted</th>\n",
              "      <th>0</th>\n",
              "      <th>1</th>\n",
              "    </tr>\n",
              "    <tr>\n",
              "      <th>length_of_service</th>\n",
              "      <th></th>\n",
              "      <th></th>\n",
              "    </tr>\n",
              "  </thead>\n",
              "  <tbody>\n",
              "    <tr>\n",
              "      <th>False</th>\n",
              "      <td>46885</td>\n",
              "      <td>4432</td>\n",
              "    </tr>\n",
              "    <tr>\n",
              "      <th>True</th>\n",
              "      <td>3255</td>\n",
              "      <td>234</td>\n",
              "    </tr>\n",
              "  </tbody>\n",
              "</table>\n",
              "</div>"
            ],
            "text/plain": [
              "is_promoted            0     1\n",
              "length_of_service             \n",
              "False              46885  4432\n",
              "True                3255   234"
            ]
          },
          "execution_count": 161,
          "metadata": {},
          "output_type": "execute_result"
        }
      ],
      "source": [
        "pd.crosstab([df['length_of_service']>upperBound],df['is_promoted'])"
      ]
    },
    {
      "cell_type": "code",
      "execution_count": 162,
      "metadata": {
        "id": "Od2kHV8ox8LH"
      },
      "outputs": [],
      "source": [
        "#capping\n",
        "df['length_of_service']=[upperBound if x>upperBound else x for x in df['length_of_service']]"
      ]
    },
    {
      "cell_type": "code",
      "execution_count": 163,
      "metadata": {
        "id": "Z5wZl9qZyq3s"
      },
      "outputs": [],
      "source": [
        "# feature mapping is done on education column\n",
        "df['education']=df['education'].replace((\"Below Secondary\",\"Bachelor's\",\"Master's & above\"),(1,2,3))"
      ]
    },
    {
      "cell_type": "code",
      "execution_count": 164,
      "metadata": {
        "id": "rHhA3dd8zaSy"
      },
      "outputs": [],
      "source": [
        "lb = LabelEncoder()\n",
        "df['department']=lb.fit_transform(df['department'])"
      ]
    },
    {
      "cell_type": "code",
      "execution_count": 165,
      "metadata": {
        "colab": {
          "base_uri": "https://localhost:8080/"
        },
        "id": "ooAkE0_Ez_nZ",
        "outputId": "8352d4fb-907b-4e14-b099-21dee82d8140"
      },
      "outputs": [
        {
          "name": "stdout",
          "output_type": "stream",
          "text": [
            "(54806, 10)\n",
            "(54806,)\n"
          ]
        }
      ],
      "source": [
        "# splitting data and resampling it\n",
        "x = df.drop('is_promoted',axis=1)\n",
        "y = df['is_promoted']\n",
        "print (x.shape)\n",
        "print(y.shape)"
      ]
    },
    {
      "cell_type": "code",
      "execution_count": 166,
      "metadata": {
        "id": "adFlz_GY0rpY"
      },
      "outputs": [],
      "source": [
        "from imblearn.over_sampling import SMOTE\n",
        "\n"
      ]
    },
    {
      "cell_type": "code",
      "execution_count": 167,
      "metadata": {},
      "outputs": [],
      "source": [
        "df=df.drop(['gender'],axis=1)"
      ]
    },
    {
      "cell_type": "code",
      "execution_count": 168,
      "metadata": {
        "id": "9r_eOlxV00_r"
      },
      "outputs": [
        {
          "data": {
            "text/plain": [
              "Index(['department', 'education', 'no_of_trainings', 'age',\n",
              "       'previous_year_rating', 'length_of_service', 'KPIs_met >80%',\n",
              "       'awards_won?', 'avg_training_score'],\n",
              "      dtype='object')"
            ]
          },
          "execution_count": 168,
          "metadata": {},
          "output_type": "execute_result"
        }
      ],
      "source": [
        "x = df.drop('is_promoted',axis=1)\n",
        "x = pd.get_dummies(x)\n",
        "sm = SMOTE()\n",
        "x = x.fillna(x.mean())\n",
        "y = df['is_promoted']\n",
        "x_resample, y_resample = sm.fit_resample(x,y)\n",
        "x.columns"
      ]
    },
    {
      "cell_type": "code",
      "execution_count": 181,
      "metadata": {},
      "outputs": [
        {
          "data": {
            "text/html": [
              "<div>\n",
              "<style scoped>\n",
              "    .dataframe tbody tr th:only-of-type {\n",
              "        vertical-align: middle;\n",
              "    }\n",
              "\n",
              "    .dataframe tbody tr th {\n",
              "        vertical-align: top;\n",
              "    }\n",
              "\n",
              "    .dataframe thead th {\n",
              "        text-align: right;\n",
              "    }\n",
              "</style>\n",
              "<table border=\"1\" class=\"dataframe\">\n",
              "  <thead>\n",
              "    <tr style=\"text-align: right;\">\n",
              "      <th></th>\n",
              "      <th>department</th>\n",
              "      <th>education</th>\n",
              "      <th>no_of_trainings</th>\n",
              "      <th>age</th>\n",
              "      <th>previous_year_rating</th>\n",
              "      <th>length_of_service</th>\n",
              "      <th>KPIs_met &gt;80%</th>\n",
              "      <th>awards_won?</th>\n",
              "      <th>avg_training_score</th>\n",
              "    </tr>\n",
              "  </thead>\n",
              "  <tbody>\n",
              "    <tr>\n",
              "      <th>0</th>\n",
              "      <td>7</td>\n",
              "      <td>3</td>\n",
              "      <td>1</td>\n",
              "      <td>35</td>\n",
              "      <td>5.0</td>\n",
              "      <td>8.0</td>\n",
              "      <td>1</td>\n",
              "      <td>0</td>\n",
              "      <td>49</td>\n",
              "    </tr>\n",
              "    <tr>\n",
              "      <th>1</th>\n",
              "      <td>4</td>\n",
              "      <td>2</td>\n",
              "      <td>1</td>\n",
              "      <td>30</td>\n",
              "      <td>5.0</td>\n",
              "      <td>4.0</td>\n",
              "      <td>0</td>\n",
              "      <td>0</td>\n",
              "      <td>60</td>\n",
              "    </tr>\n",
              "    <tr>\n",
              "      <th>2</th>\n",
              "      <td>7</td>\n",
              "      <td>2</td>\n",
              "      <td>1</td>\n",
              "      <td>34</td>\n",
              "      <td>3.0</td>\n",
              "      <td>7.0</td>\n",
              "      <td>0</td>\n",
              "      <td>0</td>\n",
              "      <td>50</td>\n",
              "    </tr>\n",
              "    <tr>\n",
              "      <th>3</th>\n",
              "      <td>7</td>\n",
              "      <td>2</td>\n",
              "      <td>2</td>\n",
              "      <td>39</td>\n",
              "      <td>1.0</td>\n",
              "      <td>10.0</td>\n",
              "      <td>0</td>\n",
              "      <td>0</td>\n",
              "      <td>50</td>\n",
              "    </tr>\n",
              "    <tr>\n",
              "      <th>4</th>\n",
              "      <td>8</td>\n",
              "      <td>2</td>\n",
              "      <td>1</td>\n",
              "      <td>45</td>\n",
              "      <td>3.0</td>\n",
              "      <td>2.0</td>\n",
              "      <td>0</td>\n",
              "      <td>0</td>\n",
              "      <td>73</td>\n",
              "    </tr>\n",
              "  </tbody>\n",
              "</table>\n",
              "</div>"
            ],
            "text/plain": [
              "   department  education  no_of_trainings  age  previous_year_rating  \\\n",
              "0           7          3                1   35                   5.0   \n",
              "1           4          2                1   30                   5.0   \n",
              "2           7          2                1   34                   3.0   \n",
              "3           7          2                2   39                   1.0   \n",
              "4           8          2                1   45                   3.0   \n",
              "\n",
              "   length_of_service  KPIs_met >80%  awards_won?  avg_training_score  \n",
              "0                8.0              1            0                  49  \n",
              "1                4.0              0            0                  60  \n",
              "2                7.0              0            0                  50  \n",
              "3               10.0              0            0                  50  \n",
              "4                2.0              0            0                  73  "
            ]
          },
          "execution_count": 181,
          "metadata": {},
          "output_type": "execute_result"
        }
      ],
      "source": [
        "x.head()"
      ]
    },
    {
      "cell_type": "code",
      "execution_count": 169,
      "metadata": {
        "colab": {
          "base_uri": "https://localhost:8080/",
          "height": 605
        },
        "id": "iJjJUHR6nlEN",
        "outputId": "2a665509-677e-41a4-ce40-c00fe5c51185"
      },
      "outputs": [
        {
          "data": {
            "image/png": "[encoded data removed]",
            "text/plain": [
              "<Figure size 1000x600 with 2 Axes>"
            ]
          },
          "metadata": {},
          "output_type": "display_data"
        }
      ],
      "source": [
        "\n",
        "plt.figure(figsize=(10,6))\n",
        "plt.subplot(1,2,1)\n",
        "sns.countplot(x=y) # Changed to y since x_resample is a DataFrame\n",
        "plt.title('Before oversampling')\n",
        "plt.subplot(1,2,2)\n",
        "sns.countplot(x=y_resample)\n",
        "plt.title('After oversampling')\n",
        "plt.show()"
      ]
    },
    {
      "cell_type": "code",
      "execution_count": 170,
      "metadata": {
        "id": "As5CPIGg2S7R"
      },
      "outputs": [],
      "source": [
        "x_train,x_test,y_train,y_test = train_test_split(x_resample,y_resample,test_size=0.3,random_state=(10))"
      ]
    },
    {
      "cell_type": "code",
      "execution_count": 171,
      "metadata": {
        "colab": {
          "base_uri": "https://localhost:8080/"
        },
        "id": "5fwkCtNe3Jvp",
        "outputId": "619abb95-4da9-4a08-9c5e-f79772b708fc"
      },
      "outputs": [
        {
          "name": "stdout",
          "output_type": "stream",
          "text": [
            "shape of x_train (70196, 9)\n",
            "shape of y_train (70196,)\n",
            "shape of x_test (30084, 9)\n",
            "shape of y_test (30084,)\n"
          ]
        }
      ],
      "source": [
        "print('shape of x_train {}'.format(x_train.shape))\n",
        "print('shape of y_train {}'.format(y_train.shape))\n",
        "print('shape of x_test {}'.format(x_test.shape))\n",
        "print('shape of y_test {}'.format(y_test.shape))"
      ]
    },
    {
      "cell_type": "code",
      "execution_count": 172,
      "metadata": {
        "id": "vAvPPn_y4l-8"
      },
      "outputs": [],
      "source": [
        "def decisionTree(x_train,x_test,y_train,y_test):\n",
        "  dt=DecisionTreeClassifier()\n",
        "  dt.fit(x_train,y_train)\n",
        "  y_pred = dt.predict(x_test)\n",
        "  print('***DecisionTreeClassifier***')\n",
        "  print('confusion_matrix')\n",
        "  print(confusion_matrix(y_test,y_pred))\n",
        "  print('Classification report')\n",
        "  print(classification_report(y_test,y_pred))"
      ]
    },
    {
      "cell_type": "code",
      "execution_count": null,
      "metadata": {
        "id": "5thJlWXl4ik_"
      },
      "outputs": [],
      "source": []
    },
    {
      "cell_type": "code",
      "execution_count": 173,
      "metadata": {
        "id": "DPPnLz0x4CwN"
      },
      "outputs": [],
      "source": [
        " def randomforest(x_train,x_test,y_train,y_test):\n",
        "  rf = RandomForestClassifier()\n",
        "  rf.fit(x_train,y_train)\n",
        "  y_pred= rf.predict(x_test)\n",
        "  print('***RandomForestClassifier***')\n",
        "  print('Confusion matrix')\n",
        "  print(confusion_matrix(y_test,y_pred))\n",
        "  print('Classification report')\n",
        "  print(classification_report(y_test,y_pred))"
      ]
    },
    {
      "cell_type": "code",
      "execution_count": 174,
      "metadata": {
        "id": "lZ-Bp8tK8WeU"
      },
      "outputs": [],
      "source": [
        "def KNN(x_train,x_test,y_train,y_test):\n",
        "  knn = KNeighborsClassifier()\n",
        "  knn.fit(x_train,y_train)\n",
        "  y_pred= knn.predict(x_test)\n",
        "  print('***KNeighborsClassifier***')\n",
        "  print('Confusion matrix')\n",
        "  print(confusion_matrix(y_test,y_pred))\n",
        "  print('Classification report')\n",
        "  print(classification_report(y_test,y_pred))"
      ]
    },
    {
      "cell_type": "code",
      "execution_count": 175,
      "metadata": {
        "id": "BTueDKSV9C3T"
      },
      "outputs": [],
      "source": [
        "def xgboost(x_train,x_test,y_train,y_test):\n",
        "  xg = GradientBoostingClassifier()\n",
        "  xg.fit(x_train,y_train)\n",
        "  y_pred= xg.predict(x_test)\n",
        "  print('***GradientBoostingClassifier***')\n",
        "  print('Confusion matrix')\n",
        "  print(confusion_matrix(y_test,y_pred))\n",
        "  print('Classification report')\n",
        "  print(classification_report(y_test,y_pred))"
      ]
    },
    {
      "cell_type": "code",
      "execution_count": 176,
      "metadata": {
        "id": "OEeZXGD2-C9A"
      },
      "outputs": [],
      "source": [
        "def compareModel(x_train,x_test,y_train,y_test):\n",
        "    # Call your machine learning functions here, e.g.,\n",
        "    decisionTree(x_train, x_test, y_train, y_test)\n",
        "    randomforest(x_train, x_test, y_train, y_test)\n",
        "    KNN(x_train, x_test, y_train, y_test)\n",
        "    xgboost(x_train, x_test, y_train, y_test)\n"
      ]
    },
    {
      "cell_type": "code",
      "execution_count": 177,
      "metadata": {
        "colab": {
          "base_uri": "https://localhost:8080/"
        },
        "id": "YJGTfvP19lZb",
        "outputId": "9b671ff6-de2a-4740-8894-5dacf9012904"
      },
      "outputs": [
        {
          "name": "stdout",
          "output_type": "stream",
          "text": [
            "***DecisionTreeClassifier***\n",
            "confusion_matrix\n",
            "[[13877  1188]\n",
            " [  867 14152]]\n",
            "Classification report\n",
            "              precision    recall  f1-score   support\n",
            "\n",
            "           0       0.94      0.92      0.93     15065\n",
            "           1       0.92      0.94      0.93     15019\n",
            "\n",
            "    accuracy                           0.93     30084\n",
            "   macro avg       0.93      0.93      0.93     30084\n",
            "weighted avg       0.93      0.93      0.93     30084\n",
            "\n",
            "***RandomForestClassifier***\n",
            "Confusion matrix\n",
            "[[14169   896]\n",
            " [  776 14243]]\n",
            "Classification report\n",
            "              precision    recall  f1-score   support\n",
            "\n",
            "           0       0.95      0.94      0.94     15065\n",
            "           1       0.94      0.95      0.94     15019\n",
            "\n",
            "    accuracy                           0.94     30084\n",
            "   macro avg       0.94      0.94      0.94     30084\n",
            "weighted avg       0.94      0.94      0.94     30084\n",
            "\n",
            "***KNeighborsClassifier***\n",
            "Confusion matrix\n",
            "[[12250  2815]\n",
            " [  513 14506]]\n",
            "Classification report\n",
            "              precision    recall  f1-score   support\n",
            "\n",
            "           0       0.96      0.81      0.88     15065\n",
            "           1       0.84      0.97      0.90     15019\n",
            "\n",
            "    accuracy                           0.89     30084\n",
            "   macro avg       0.90      0.89      0.89     30084\n",
            "weighted avg       0.90      0.89      0.89     30084\n",
            "\n",
            "***GradientBoostingClassifier***\n",
            "Confusion matrix\n",
            "[[12558  2507]\n",
            " [ 1594 13425]]\n",
            "Classification report\n",
            "              precision    recall  f1-score   support\n",
            "\n",
            "           0       0.89      0.83      0.86     15065\n",
            "           1       0.84      0.89      0.87     15019\n",
            "\n",
            "    accuracy                           0.86     30084\n",
            "   macro avg       0.87      0.86      0.86     30084\n",
            "weighted avg       0.87      0.86      0.86     30084\n",
            "\n"
          ]
        }
      ],
      "source": [
        "compareModel(x_train,x_test,y_train,y_test)"
      ]
    },
    {
      "cell_type": "code",
      "execution_count": 178,
      "metadata": {
        "id": "mBxVZWEaAcKH"
      },
      "outputs": [],
      "source": [
        "#Random forest model is selected\n",
        "rf = RandomForestClassifier()\n",
        "rf.fit(x_train,y_train)\n",
        "y_pred = rf.predict(x_test)"
      ]
    },
    {
      "cell_type": "code",
      "execution_count": 179,
      "metadata": {
        "colab": {
          "base_uri": "https://localhost:8080/"
        },
        "id": "mX85wWunA7h0",
        "outputId": "e4561827-0d43-4b4e-df90-01c6111afcfe"
      },
      "outputs": [
        {
          "data": {
            "text/plain": [
              "np.float64(0.946230554447547)"
            ]
          },
          "execution_count": 179,
          "metadata": {},
          "output_type": "execute_result"
        }
      ],
      "source": [
        "cv = cross_val_score(rf,x_resample,y_resample,cv=5)\n",
        "np.mean(cv)"
      ]
    },
    {
      "cell_type": "code",
      "execution_count": 180,
      "metadata": {
        "id": "m7WrXt6kBlAE"
      },
      "outputs": [],
      "source": [
        "pickle.dump(rf,open('model.pkl','wb'))"
      ]
    }
  ],
  "metadata": {
    "colab": {
      "provenance": []
    },
    "kernelspec": {
      "display_name": "Python 3",
      "name": "python3"
    },
    "language_info": {
      "codemirror_mode": {
        "name": "ipython",
        "version": 3
      },
      "file_extension": ".py",
      "mimetype": "text/x-python",
      "name": "python",
      "nbconvert_exporter": "python",
      "pygments_lexer": "ipython3",
      "version": "3.12.4"
    }
  },
  "nbformat": 4,
  "nbformat_minor": 0
}
